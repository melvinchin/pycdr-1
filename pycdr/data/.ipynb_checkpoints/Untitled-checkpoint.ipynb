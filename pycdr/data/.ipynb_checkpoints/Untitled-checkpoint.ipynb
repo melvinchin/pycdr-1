{
 "cells": [
  {
   "cell_type": "code",
   "execution_count": 9,
   "id": "311fece0",
   "metadata": {},
   "outputs": [],
   "source": [
    "import pycdr.pycdr"
   ]
  },
  {
   "cell_type": "code",
   "execution_count": 2,
   "id": "5ffdba07",
   "metadata": {},
   "outputs": [],
   "source": [
    "import anndata as ad"
   ]
  },
  {
   "cell_type": "code",
   "execution_count": 6,
   "id": "82e8b7a5",
   "metadata": {},
   "outputs": [],
   "source": [
    "x = ad.read(\"test_tcell.h5ad\")"
   ]
  },
  {
   "cell_type": "code",
   "execution_count": 7,
   "id": "3accac4f",
   "metadata": {},
   "outputs": [
    {
     "data": {
      "text/plain": [
       "AnnData object with n_obs × n_vars = 100 × 2906\n",
       "    obs: 'orig.ident', 'nCount_RNA', 'nFeature_RNA', 'patient', 'percent.mt', 'gender', 'source', 'subtype', 'cluster_kmeans_k6', 'cell_type', 'celltype', 'hum'\n",
       "    var: 'features'\n",
       "    uns: 'num_cells_thresh', 'total_gene_thresh'"
      ]
     },
     "execution_count": 7,
     "metadata": {},
     "output_type": "execute_result"
    }
   ],
   "source": [
    "x"
   ]
  },
  {
   "cell_type": "code",
   "execution_count": null,
   "id": "f22119d6",
   "metadata": {},
   "outputs": [
    {
     "name": "stderr",
     "output_type": "stream",
     "text": [
      "589576 - INFO : 2022-01-11 07:48:29,600 - cmd: ['/home/ubuntu/miniconda3/envs/pyenv/lib/python3.9/site-packages/ipykernel_launcher.py', '-f', '/home/ubuntu/.local/share/jupyter/runtime/kernel-0b78a740-0199-45fd-aa68-0a26f16b9201.json']\n",
      "589576 - INFO : 2022-01-11 07:48:29,601 - reading anndata object\n",
      "589576 - INFO : 2022-01-11 07:48:29,602 - processing dataset of 2906 genes X 100 cells\n",
      "589576 - INFO : 2022-01-11 07:48:29,602 - target class label:: gender\n",
      "589576 - INFO : 2022-01-11 07:48:29,603 - SVD and threshold selection\n"
     ]
    },
    {
     "name": "stdout",
     "output_type": "stream",
     "text": [
      "2000\n"
     ]
    }
   ],
   "source": [
    "pycdr.pycdr.run_CDR_analysis(x, \"gender\")"
   ]
  },
  {
   "cell_type": "code",
   "execution_count": 13,
   "id": "8091bd3e",
   "metadata": {},
   "outputs": [
    {
     "data": {
      "text/plain": [
       "scc.su010.post_AGGTCATTCGGCCGAT_16                  skin_SCC\n",
       "AAATGCCTCTCCGGTT-1_5_11                          multiple_EA\n",
       "GAACCTAGTACTCAAC_23_6                            lung1_NSCLC\n",
       "GTTCTCGCAGGGTATG_13_13                          multiple_RCC\n",
       "TCCCGATGTAAGCACG_40_2                         colorectal_CRC\n",
       "                                                 ...        \n",
       "TGTGTTTTCGGCTTGG_12_13                          multiple_RCC\n",
       "WMC0109970_10                                   melanoma2_CM\n",
       "TAAGTGCAGTAGCGGT_7_17                      uveal melanoma_UM\n",
       "bcc.su006.pre.tcell_TCAGCAACATACGCTA_16             skin_BCC\n",
       "GATCGATCACTTAACG_4_17                      uveal melanoma_UM\n",
       "Name: hum, Length: 100, dtype: category\n",
       "Categories (15, object): ['breast_BC', 'colorectal_CRC', 'liver1_HCC', 'liver2_HCC', ..., 'pancreas_PDAC', 'skin_BCC', 'skin_SCC', 'uveal melanoma_UM']"
      ]
     },
     "execution_count": 13,
     "metadata": {},
     "output_type": "execute_result"
    }
   ],
   "source": [
    "x.obs.hum"
   ]
  },
  {
   "cell_type": "code",
   "execution_count": null,
   "id": "49170f4e",
   "metadata": {},
   "outputs": [],
   "source": []
  }
 ],
 "metadata": {
  "kernelspec": {
   "display_name": "Python 3",
   "language": "python",
   "name": "python3"
  },
  "language_info": {
   "codemirror_mode": {
    "name": "ipython",
    "version": 3
   },
   "file_extension": ".py",
   "mimetype": "text/x-python",
   "name": "python",
   "nbconvert_exporter": "python",
   "pygments_lexer": "ipython3",
   "version": "3.9.4"
  }
 },
 "nbformat": 4,
 "nbformat_minor": 5
}
