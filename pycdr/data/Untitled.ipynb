{
 "cells": [
  {
   "cell_type": "code",
   "execution_count": 9,
   "id": "ab9c7521",
   "metadata": {},
   "outputs": [],
   "source": [
    "import pycdr.pycdr"
   ]
  },
  {
   "cell_type": "code",
   "execution_count": 2,
   "id": "76f11425",
   "metadata": {},
   "outputs": [],
   "source": [
    "import anndata as ad"
   ]
  },
  {
   "cell_type": "code",
   "execution_count": 115,
   "id": "d412aed5",
   "metadata": {},
   "outputs": [],
   "source": [
    "from pycdr.welford_gene_selection import get_df_for_factor"
   ]
  },
  {
   "cell_type": "code",
   "execution_count": 96,
   "id": "22d3baea",
   "metadata": {},
   "outputs": [
    {
     "name": "stderr",
     "output_type": "stream",
     "text": [
      "Observation names are not unique. To make them unique, call `.obs_names_make_unique`.\n",
      "Variable names are not unique. To make them unique, call `.var_names_make_unique`.\n"
     ]
    }
   ],
   "source": [
    "x = ad.read(\"test_muscle.h5ad\")"
   ]
  },
  {
   "cell_type": "code",
   "execution_count": 36,
   "id": "883e63b0",
   "metadata": {},
   "outputs": [
    {
     "data": {
      "text/plain": [
       "AnnData object with n_obs × n_vars = 100 × 100\n",
       "    obs: 'cellname', 'Library', 'Well', 'Hours', 'Media', 'Mapped.Fragments', 'Pseudotime', 'State'\n",
       "    var: 'Unnamed: 0', 'gene_short_name', 'biotype', 'num_cells_expressed', 'use_for_ordering'"
      ]
     },
     "execution_count": 36,
     "metadata": {},
     "output_type": "execute_result"
    }
   ],
   "source": [
    "x"
   ]
  },
  {
   "cell_type": "code",
   "execution_count": 97,
   "id": "7841302d",
   "metadata": {},
   "outputs": [
    {
     "name": "stderr",
     "output_type": "stream",
     "text": [
      "589576 - INFO : 2022-01-11 08:39:08,890 - cmd: ['/home/ubuntu/miniconda3/envs/pyenv/lib/python3.9/site-packages/ipykernel_launcher.py', '-f', '/home/ubuntu/.local/share/jupyter/runtime/kernel-0b78a740-0199-45fd-aa68-0a26f16b9201.json']\n",
      "589576 - INFO : 2022-01-11 08:39:08,891 - reading anndata object\n",
      "589576 - INFO : 2022-01-11 08:39:08,892 - processing dataset of 100 genes X 100 cells\n",
      "589576 - INFO : 2022-01-11 08:39:08,893 - target class label:: Hours\n",
      "589576 - INFO : 2022-01-11 08:39:08,893 - SVD and threshold selection\n",
      "589576 - INFO : 2022-01-11 08:39:09,015 - completed SVD and varimax\n",
      "589576 - INFO : 2022-01-11 08:39:09,017 - permutation testing for gene sets:: perms:: 2000 threshold :: 0.05\n",
      "  0%|          | 0/2000 [00:00<?, ?it/s]589576 - INFO : 2022-01-11 08:39:09,019 - num permutations:: 0\n",
      "589576 - INFO : 2022-01-11 08:39:09,104 - num permutations:: 200\n",
      " 12%|█▎        | 250/2000 [00:00<00:00, 2494.86it/s]"
     ]
    },
    {
     "name": "stdout",
     "output_type": "stream",
     "text": [
      "199\n"
     ]
    },
    {
     "name": "stderr",
     "output_type": "stream",
     "text": [
      "589576 - INFO : 2022-01-11 08:39:09,164 - num permutations:: 400\n",
      " 30%|██▉       | 591/2000 [00:00<00:00, 3032.31it/s]589576 - INFO : 2022-01-11 08:39:09,223 - num permutations:: 600\n",
      "589576 - INFO : 2022-01-11 08:39:09,281 - num permutations:: 800\n",
      " 47%|████▋     | 932/2000 [00:00<00:00, 3203.73it/s]589576 - INFO : 2022-01-11 08:39:09,341 - num permutations:: 1000\n",
      "589576 - INFO : 2022-01-11 08:39:09,398 - num permutations:: 1200\n",
      " 64%|██████▎   | 1272/2000 [00:00<00:00, 3280.81it/s]589576 - INFO : 2022-01-11 08:39:09,457 - num permutations:: 1400\n",
      "589576 - INFO : 2022-01-11 08:39:09,515 - num permutations:: 1600\n",
      " 81%|████████  | 1613/2000 [00:00<00:00, 3326.84it/s]589576 - INFO : 2022-01-11 08:39:09,574 - num permutations:: 1800\n",
      "100%|██████████| 2000/2000 [00:00<00:00, 3263.19it/s]\n",
      "589576 - INFO : 2022-01-11 08:39:09,633 - computed thresholds for gene selection\n",
      "589576 - INFO : 2022-01-11 08:39:09,634 - N factor loadings:: 22\n",
      "589576 - INFO : 2022-01-11 08:39:09,634 - wall clock time in seconds:: 0.7441861629486084\n"
     ]
    }
   ],
   "source": [
    "pycdr.pycdr.run_CDR_analysis(x, \"Hours\")"
   ]
  },
  {
   "cell_type": "code",
   "execution_count": 38,
   "id": "1c7133f5",
   "metadata": {},
   "outputs": [
    {
     "data": {
      "text/plain": [
       "AnnData object with n_obs × n_vars = 100 × 100\n",
       "    obs: 'cellname', 'Library', 'Well', 'Hours', 'Media', 'Mapped.Fragments', 'Pseudotime', 'State'\n",
       "    var: 'Unnamed: 0', 'gene_short_name', 'biotype', 'num_cells_expressed', 'use_for_ordering'\n",
       "    uns: 'selected_loading', 'Fs', 'Ls', 'Fk', 'Lk', 'n_pheno', 'Fs_diff', 'zscores', 'pval_mat', 'selection', 'factor_loadings'"
      ]
     },
     "execution_count": 38,
     "metadata": {},
     "output_type": "execute_result"
    }
   ],
   "source": [
    "x"
   ]
  },
  {
   "cell_type": "code",
   "execution_count": 39,
   "id": "8f661a94",
   "metadata": {},
   "outputs": [
    {
     "data": {
      "text/plain": [
       "0.1033"
      ]
     },
     "execution_count": 39,
     "metadata": {},
     "output_type": "execute_result"
    }
   ],
   "source": [
    "round(x.uns[\"Fs\"][25,3], 4)"
   ]
  },
  {
   "cell_type": "code",
   "execution_count": 30,
   "id": "6601cc6b",
   "metadata": {},
   "outputs": [
    {
     "data": {
      "text/plain": [
       "2"
      ]
     },
     "execution_count": 30,
     "metadata": {},
     "output_type": "execute_result"
    }
   ],
   "source": [
    "x.uns[\"n_pheno\"]"
   ]
  },
  {
   "cell_type": "code",
   "execution_count": 52,
   "id": "2f4025e1",
   "metadata": {},
   "outputs": [
    {
     "data": {
      "text/plain": [
       "{'factor.0': [],\n",
       " 'factor.1': [],\n",
       " 'factor.2': ['ARHGAP33', 'ARHGAP33', 'ARHGAP33'],\n",
       " 'factor.3': ['PDK4'],\n",
       " 'factor.4': ['ARX', 'ARF5', 'ARX'],\n",
       " 'factor.5': ['ST7'],\n",
       " 'factor.6': [],\n",
       " 'factor.7': [],\n",
       " 'factor.8': ['FAM214B', 'FAM214B'],\n",
       " 'factor.9': ['C1orf112', 'PRKAR2B', 'CROT', 'CROT', 'PRKAR2B'],\n",
       " 'factor.10': ['COPZ2', 'RPAP3', 'LASP1', 'RPAP3'],\n",
       " 'factor.11': ['SPPL2B', 'BAD'],\n",
       " 'factor.12': ['DVL2', 'COPZ2', 'DVL2', 'LASP1', 'ARF5'],\n",
       " 'factor.13': ['CIAPIN1', 'AC004381.6', 'CIAPIN1', 'AC004381.6', 'AC004381.6'],\n",
       " 'factor.14': ['CYP51A1', 'CIAPIN1', 'CIAPIN1', 'M6PR', 'SLC25A5'],\n",
       " 'factor.15': ['TFPI', 'TFPI', 'TFPI'],\n",
       " 'factor.16': ['ABCB4', 'MSL3'],\n",
       " 'factor.17': ['MTMR7', 'BZRAP1', 'BZRAP1', 'MTMR7'],\n",
       " 'factor.18': [],\n",
       " 'factor.19': ['DHX33', 'CREBBP'],\n",
       " 'factor.20': ['AK2', 'CFLAR'],\n",
       " 'factor.21': ['DVL2', 'HSPB6', 'DVL2', 'HSPB6', 'HSPB6', 'HSPB6']}"
      ]
     },
     "execution_count": 52,
     "metadata": {},
     "output_type": "execute_result"
    }
   ],
   "source": [
    "x.uns[\"factor_loadings\"]"
   ]
  },
  {
   "cell_type": "code",
   "execution_count": 31,
   "id": "c2d877db",
   "metadata": {},
   "outputs": [
    {
     "data": {
      "text/plain": [
       "22"
      ]
     },
     "execution_count": 31,
     "metadata": {},
     "output_type": "execute_result"
    }
   ],
   "source": [
    "x.uns[\"selected_loading\"]"
   ]
  },
  {
   "cell_type": "code",
   "execution_count": 49,
   "id": "e6ba97b7",
   "metadata": {},
   "outputs": [
    {
     "data": {
      "text/plain": [
       "0.4535"
      ]
     },
     "execution_count": 49,
     "metadata": {},
     "output_type": "execute_result"
    }
   ],
   "source": [
    "x.uns[\"pval_mat\"][15,10]"
   ]
  },
  {
   "cell_type": "code",
   "execution_count": 44,
   "id": "51050016",
   "metadata": {},
   "outputs": [
    {
     "data": {
      "text/plain": [
       "['ARHGAP33', 'ARHGAP33', 'ARHGAP33']"
      ]
     },
     "execution_count": 44,
     "metadata": {},
     "output_type": "execute_result"
    }
   ],
   "source": [
    "x.uns['factor_loadings']['factor.2']"
   ]
  },
  {
   "cell_type": "code",
   "execution_count": 47,
   "id": "91f02590",
   "metadata": {},
   "outputs": [
    {
     "data": {
      "text/plain": [
       "0.235"
      ]
     },
     "execution_count": 47,
     "metadata": {},
     "output_type": "execute_result"
    }
   ],
   "source": [
    "round(x.uns['Fs_diff'][23,6], 4)"
   ]
  },
  {
   "cell_type": "code",
   "execution_count": 98,
   "id": "2f9c6add",
   "metadata": {},
   "outputs": [],
   "source": [
    "from pycdr.perm import calculate_enrichment"
   ]
  },
  {
   "cell_type": "code",
   "execution_count": 100,
   "id": "aac2e0cf",
   "metadata": {},
   "outputs": [],
   "source": [
    "from pycdr.perm import get_df_loadings"
   ]
  },
  {
   "cell_type": "code",
   "execution_count": 107,
   "id": "e86d43db",
   "metadata": {},
   "outputs": [
    {
     "name": "stderr",
     "output_type": "stream",
     "text": [
      "0it [00:00, ?it/s]589576 - INFO : 2022-01-11 08:40:47,610 - num factors processed:: 0\n",
      "1it [00:00, 113.94it/s]\n"
     ]
    }
   ],
   "source": [
    "a, b = calculate_enrichment(x, \"Hours\",  ['factor.9'] , 10, \"gene_short_name\", 0.1)"
   ]
  },
  {
   "cell_type": "code",
   "execution_count": 66,
   "id": "15737c3f",
   "metadata": {},
   "outputs": [
    {
     "data": {
      "text/plain": [
       "0.011916939343153464"
      ]
     },
     "execution_count": 66,
     "metadata": {},
     "output_type": "execute_result"
    }
   ],
   "source": [
    "b[\"factor.9\"][1] == 0.011916939343153464"
   ]
  },
  {
   "cell_type": "code",
   "execution_count": 59,
   "id": "1167c47d",
   "metadata": {},
   "outputs": [
    {
     "ename": "TypeError",
     "evalue": "calculate_enrichment() missing 5 required positional arguments: 'cols', 'factor_list', 'nperm', 'genecol', and 'thresh'",
     "output_type": "error",
     "traceback": [
      "\u001b[0;31m---------------------------------------------------------------------------\u001b[0m",
      "\u001b[0;31mTypeError\u001b[0m                                 Traceback (most recent call last)",
      "\u001b[0;32m<ipython-input-59-3f364f9f8d5f>\u001b[0m in \u001b[0;36m<module>\u001b[0;34m\u001b[0m\n\u001b[0;32m----> 1\u001b[0;31m \u001b[0mcalculate_enrichment\u001b[0m\u001b[0;34m(\u001b[0m\u001b[0mx\u001b[0m\u001b[0;34m)\u001b[0m\u001b[0;34m\u001b[0m\u001b[0;34m\u001b[0m\u001b[0m\n\u001b[0m",
      "\u001b[0;31mTypeError\u001b[0m: calculate_enrichment() missing 5 required positional arguments: 'cols', 'factor_list', 'nperm', 'genecol', and 'thresh'"
     ]
    }
   ],
   "source": [
    "actor_list, 100, \"gene_short_name\", 0.05"
   ]
  },
  {
   "cell_type": "code",
   "execution_count": 67,
   "id": "32f69325",
   "metadata": {},
   "outputs": [],
   "source": [
    "from pycdr.pp import filter_genecounts_numcells, filter_genecounts_percent"
   ]
  },
  {
   "cell_type": "code",
   "execution_count": 94,
   "id": "61dfd0af",
   "metadata": {},
   "outputs": [
    {
     "name": "stderr",
     "output_type": "stream",
     "text": [
      "Trying to set attribute `.uns` of view, copying.\n",
      "Observation names are not unique. To make them unique, call `.obs_names_make_unique`.\n",
      "Variable names are not unique. To make them unique, call `.var_names_make_unique`.\n",
      "Observation names are not unique. To make them unique, call `.obs_names_make_unique`.\n",
      "Variable names are not unique. To make them unique, call `.var_names_make_unique`.\n"
     ]
    }
   ],
   "source": [
    "y = filter_genecounts_numcells(x, 5, 25)"
   ]
  },
  {
   "cell_type": "code",
   "execution_count": 95,
   "id": "d27f7d94",
   "metadata": {},
   "outputs": [
    {
     "data": {
      "text/plain": [
       "(100, 35)"
      ]
     },
     "execution_count": 95,
     "metadata": {},
     "output_type": "execute_result"
    }
   ],
   "source": [
    "y.shape"
   ]
  },
  {
   "cell_type": "code",
   "execution_count": 91,
   "id": "2431d2d6",
   "metadata": {},
   "outputs": [],
   "source": [
    "x = filter_genecounts_percent(x, 5, 4)"
   ]
  },
  {
   "cell_type": "code",
   "execution_count": 92,
   "id": "335d50ad",
   "metadata": {},
   "outputs": [
    {
     "data": {
      "text/plain": [
       "(100, 6)"
      ]
     },
     "execution_count": 92,
     "metadata": {},
     "output_type": "execute_result"
    }
   ],
   "source": [
    "x.shape"
   ]
  },
  {
   "cell_type": "code",
   "execution_count": 114,
   "id": "b17a87a8",
   "metadata": {},
   "outputs": [
    {
     "data": {
      "text/plain": [
       "0.14754098360655737"
      ]
     },
     "execution_count": 114,
     "metadata": {},
     "output_type": "execute_result"
    }
   ],
   "source": [
    "get_df_for(x).a_max[0]"
   ]
  },
  {
   "cell_type": "code",
   "execution_count": 138,
   "id": "6fe75631",
   "metadata": {},
   "outputs": [
    {
     "data": {
      "text/plain": [
       "0.1295"
      ]
     },
     "execution_count": 138,
     "metadata": {},
     "output_type": "execute_result"
    }
   ],
   "source": [
    "round(get_df_for_factor(x, 1)[\"pval\"][2], 4)"
   ]
  },
  {
   "cell_type": "code",
   "execution_count": 137,
   "id": "5da6157c",
   "metadata": {},
   "outputs": [
    {
     "data": {
      "text/plain": [
       "2.31"
      ]
     },
     "execution_count": 137,
     "metadata": {},
     "output_type": "execute_result"
    }
   ],
   "source": [
    "round(get_df_for_factor(x, 1)[\"z_score\"][0],3)"
   ]
  },
  {
   "cell_type": "code",
   "execution_count": 120,
   "id": "23a39d68",
   "metadata": {},
   "outputs": [],
   "source": [
    "x.var[\"features\"] = x.var.gene_short_name"
   ]
  },
  {
   "cell_type": "code",
   "execution_count": 121,
   "id": "13d0c09a",
   "metadata": {},
   "outputs": [
    {
     "data": {
      "text/html": [
       "<div>\n",
       "<style scoped>\n",
       "    .dataframe tbody tr th:only-of-type {\n",
       "        vertical-align: middle;\n",
       "    }\n",
       "\n",
       "    .dataframe tbody tr th {\n",
       "        vertical-align: top;\n",
       "    }\n",
       "\n",
       "    .dataframe thead th {\n",
       "        text-align: right;\n",
       "    }\n",
       "</style>\n",
       "<table border=\"1\" class=\"dataframe\">\n",
       "  <thead>\n",
       "    <tr style=\"text-align: right;\">\n",
       "      <th></th>\n",
       "      <th>Unnamed: 0</th>\n",
       "      <th>gene_short_name</th>\n",
       "      <th>biotype</th>\n",
       "      <th>num_cells_expressed</th>\n",
       "      <th>use_for_ordering</th>\n",
       "      <th>features</th>\n",
       "    </tr>\n",
       "    <tr>\n",
       "      <th>HGNC</th>\n",
       "      <th></th>\n",
       "      <th></th>\n",
       "      <th></th>\n",
       "      <th></th>\n",
       "      <th></th>\n",
       "      <th></th>\n",
       "    </tr>\n",
       "  </thead>\n",
       "  <tbody>\n",
       "    <tr>\n",
       "      <th>FGR</th>\n",
       "      <td>ENSG00000000938.8</td>\n",
       "      <td>FGR</td>\n",
       "      <td>protein_coding</td>\n",
       "      <td>0</td>\n",
       "      <td>False</td>\n",
       "      <td>FGR</td>\n",
       "    </tr>\n",
       "    <tr>\n",
       "      <th>RECQL</th>\n",
       "      <td>ENSG00000004700.11</td>\n",
       "      <td>RECQL</td>\n",
       "      <td>protein_coding</td>\n",
       "      <td>291</td>\n",
       "      <td>False</td>\n",
       "      <td>RECQL</td>\n",
       "    </tr>\n",
       "    <tr>\n",
       "      <th>ARHGAP33</th>\n",
       "      <td>ENSG00000004777.13</td>\n",
       "      <td>ARHGAP33</td>\n",
       "      <td>protein_coding</td>\n",
       "      <td>6</td>\n",
       "      <td>False</td>\n",
       "      <td>ARHGAP33</td>\n",
       "    </tr>\n",
       "    <tr>\n",
       "      <th>RBM5</th>\n",
       "      <td>ENSG00000003756.12</td>\n",
       "      <td>RBM5</td>\n",
       "      <td>protein_coding</td>\n",
       "      <td>298</td>\n",
       "      <td>False</td>\n",
       "      <td>RBM5</td>\n",
       "    </tr>\n",
       "    <tr>\n",
       "      <th>ACSM3</th>\n",
       "      <td>ENSG00000005187.7</td>\n",
       "      <td>ACSM3</td>\n",
       "      <td>protein_coding</td>\n",
       "      <td>3</td>\n",
       "      <td>False</td>\n",
       "      <td>ACSM3</td>\n",
       "    </tr>\n",
       "    <tr>\n",
       "      <th>...</th>\n",
       "      <td>...</td>\n",
       "      <td>...</td>\n",
       "      <td>...</td>\n",
       "      <td>...</td>\n",
       "      <td>...</td>\n",
       "      <td>...</td>\n",
       "    </tr>\n",
       "    <tr>\n",
       "      <th>ARHGAP33</th>\n",
       "      <td>ENSG00000004777.13</td>\n",
       "      <td>ARHGAP33</td>\n",
       "      <td>protein_coding</td>\n",
       "      <td>6</td>\n",
       "      <td>False</td>\n",
       "      <td>ARHGAP33</td>\n",
       "    </tr>\n",
       "    <tr>\n",
       "      <th>ICA1</th>\n",
       "      <td>ENSG00000003147.13</td>\n",
       "      <td>ICA1</td>\n",
       "      <td>protein_coding</td>\n",
       "      <td>2</td>\n",
       "      <td>False</td>\n",
       "      <td>ICA1</td>\n",
       "    </tr>\n",
       "    <tr>\n",
       "      <th>MTMR7</th>\n",
       "      <td>ENSG00000003987.9</td>\n",
       "      <td>MTMR7</td>\n",
       "      <td>protein_coding</td>\n",
       "      <td>25</td>\n",
       "      <td>False</td>\n",
       "      <td>MTMR7</td>\n",
       "    </tr>\n",
       "    <tr>\n",
       "      <th>AC004381.6</th>\n",
       "      <td>ENSG00000005189.15</td>\n",
       "      <td>AC004381.6</td>\n",
       "      <td>protein_coding</td>\n",
       "      <td>19</td>\n",
       "      <td>False</td>\n",
       "      <td>AC004381.6</td>\n",
       "    </tr>\n",
       "    <tr>\n",
       "      <th>NDUFAB1</th>\n",
       "      <td>ENSG00000004779.5</td>\n",
       "      <td>NDUFAB1</td>\n",
       "      <td>protein_coding</td>\n",
       "      <td>323</td>\n",
       "      <td>False</td>\n",
       "      <td>NDUFAB1</td>\n",
       "    </tr>\n",
       "  </tbody>\n",
       "</table>\n",
       "<p>100 rows × 6 columns</p>\n",
       "</div>"
      ],
      "text/plain": [
       "                    Unnamed: 0 gene_short_name         biotype  \\\n",
       "HGNC                                                             \n",
       "FGR          ENSG00000000938.8             FGR  protein_coding   \n",
       "RECQL       ENSG00000004700.11           RECQL  protein_coding   \n",
       "ARHGAP33    ENSG00000004777.13        ARHGAP33  protein_coding   \n",
       "RBM5        ENSG00000003756.12            RBM5  protein_coding   \n",
       "ACSM3        ENSG00000005187.7           ACSM3  protein_coding   \n",
       "...                        ...             ...             ...   \n",
       "ARHGAP33    ENSG00000004777.13        ARHGAP33  protein_coding   \n",
       "ICA1        ENSG00000003147.13            ICA1  protein_coding   \n",
       "MTMR7        ENSG00000003987.9           MTMR7  protein_coding   \n",
       "AC004381.6  ENSG00000005189.15      AC004381.6  protein_coding   \n",
       "NDUFAB1      ENSG00000004779.5         NDUFAB1  protein_coding   \n",
       "\n",
       "            num_cells_expressed  use_for_ordering    features  \n",
       "HGNC                                                           \n",
       "FGR                           0             False         FGR  \n",
       "RECQL                       291             False       RECQL  \n",
       "ARHGAP33                      6             False    ARHGAP33  \n",
       "RBM5                        298             False        RBM5  \n",
       "ACSM3                         3             False       ACSM3  \n",
       "...                         ...               ...         ...  \n",
       "ARHGAP33                      6             False    ARHGAP33  \n",
       "ICA1                          2             False        ICA1  \n",
       "MTMR7                        25             False       MTMR7  \n",
       "AC004381.6                   19             False  AC004381.6  \n",
       "NDUFAB1                     323             False     NDUFAB1  \n",
       "\n",
       "[100 rows x 6 columns]"
      ]
     },
     "execution_count": 121,
     "metadata": {},
     "output_type": "execute_result"
    }
   ],
   "source": [
    "x.var"
   ]
  },
  {
   "cell_type": "code",
   "execution_count": null,
   "id": "30ac8b60",
   "metadata": {},
   "outputs": [],
   "source": []
  }
 ],
 "metadata": {
  "kernelspec": {
   "display_name": "Python 3",
   "language": "python",
   "name": "python3"
  },
  "language_info": {
   "codemirror_mode": {
    "name": "ipython",
    "version": 3
   },
   "file_extension": ".py",
   "mimetype": "text/x-python",
   "name": "python",
   "nbconvert_exporter": "python",
   "pygments_lexer": "ipython3",
   "version": "3.9.4"
  }
 },
 "nbformat": 4,
 "nbformat_minor": 5
}
